{
 "cells": [
  {
   "cell_type": "code",
   "execution_count": 1,
   "metadata": {
    "collapsed": false
   },
   "outputs": [
    {
     "name": "stdout",
     "output_type": "stream",
     "text": [
      "American Football was found on files: ['sw_100133.txt', 'sw_100841.txt', 'sw_10193.txt', 'sw_101944.txt', 'sw_105789.txt', 'sw_105814.txt', 'sw_105816.txt', 'sw_105817.txt', 'sw_105820.txt', 'sw_105823.txt', 'sw_105825.txt', 'sw_105831.txt', 'sw_105837.txt', 'sw_105942.txt', 'sw_105965.txt', 'sw_105991.txt', 'sw_106015.txt', 'sw_106016.txt', 'sw_106018.txt', 'sw_106019.txt', 'sw_106021.txt', 'sw_106033.txt', 'sw_106034.txt', 'sw_106035.txt', 'sw_106037.txt', 'sw_10870.txt', 'sw_109136.txt', 'sw_109213.txt', 'sw_109214.txt', 'sw_109215.txt', 'sw_110358.txt', 'sw_110434.txt', 'sw_11193.txt', 'sw_112649.txt', 'sw_112652.txt', 'sw_112653.txt', 'sw_112654.txt', 'sw_112714.txt', 'sw_112889.txt', 'sw_113600.txt', 'sw_114403.txt', 'sw_116837.txt', 'sw_116906.txt', 'sw_117687.txt', 'sw_118048.txt', 'sw_118466.txt']\n",
      "American Football appeared 46 times\n",
      "Northern Hemisphere was found on files: ['sw_1.txt', 'sw_100534.txt', 'sw_101636.txt', 'sw_105103.txt', 'sw_108078.txt', 'sw_110052.txt', 'sw_118012.txt']\n",
      "Northern Hemisphere appeared 7 times\n"
     ]
    }
   ],
   "source": [
    "import os\n",
    "import nltk\n",
    "from nltk import bigrams\n",
    "from nltk import word_tokenize\n",
    "\n",
    "docs = {} \n",
    "\n",
    "for root, dirs, files in os.walk(r'single-docs'):\n",
    "    for file in files[:5000]:\n",
    "        \n",
    "        with open(os.path.join(root,file), 'r') as f:\n",
    "            doc_words = word_tokenize(f.read().lower())\n",
    "            doc_bigrams = set(list(bigrams(doc_words)))\n",
    "            for d in doc_bigrams:    \n",
    "                if d not in docs:\n",
    "                    docs[d] = [] \n",
    "                docs[d].append(file)\n",
    "\n",
    "def search(bigram):   \n",
    "    t = bigram.lower()\n",
    "    toTuple = tuple(word_tokenize(t))\n",
    "    print(bigram, 'was found on files:',docs[toTuple])\n",
    "    print(bigram, 'appeared',len(docs[toTuple]), 'times')\n",
    "\n",
    "search('American Football')\n",
    "search('Northern Hemisphere')"
   ]
  }
 ],
 "metadata": {
  "kernelspec": {
   "display_name": "Python 3",
   "language": "python",
   "name": "python3"
  },
  "language_info": {
   "codemirror_mode": {
    "name": "ipython",
    "version": 3
   },
   "file_extension": ".py",
   "mimetype": "text/x-python",
   "name": "python",
   "nbconvert_exporter": "python",
   "pygments_lexer": "ipython3",
   "version": "3.6.0"
  }
 },
 "nbformat": 4,
 "nbformat_minor": 2
}

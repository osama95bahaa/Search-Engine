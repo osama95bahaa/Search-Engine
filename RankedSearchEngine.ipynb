{
 "cells": [
  {
   "cell_type": "code",
   "execution_count": 3,
   "metadata": {
    "collapsed": false
   },
   "outputs": [
    {
     "name": "stdout",
     "output_type": "stream",
     "text": [
      "(1400, 20338)\n"
     ]
    }
   ],
   "source": [
    "import os\n",
    "from sklearn.feature_extraction.text import TfidfVectorizer\n",
    "from scipy.spatial.distance import cosine, cdist\n",
    "import numpy as np\n",
    "from ml_metrics import apk, mapk \n",
    "from collections import defaultdict\n",
    "\n",
    "vv = TfidfVectorizer()\n",
    "\n",
    "docs = [] \n",
    "names = [] \n",
    "for root, dirs, files in os.walk('docs'):\n",
    "    for file in sorted(files, key=int):\n",
    "        with open(os.path.join(root,file), 'r') as f:\n",
    "            docs.append(f.read())\n",
    "            names.append(file)\n",
    "\n",
    "vv.fit(docs)\n",
    "transformedDocs = vv.transform(docs)\n",
    "print(transformedDocs.shape) #1400 docs with 20338 unique words\n",
    "#print(transformedDocs.toarray()) \n",
    "\n"
   ]
  },
  {
   "cell_type": "code",
   "execution_count": 4,
   "metadata": {
    "collapsed": false
   },
   "outputs": [
    {
     "name": "stdout",
     "output_type": "stream",
     "text": [
      "(225, 20338)\n"
     ]
    }
   ],
   "source": [
    "queries = [] \n",
    "for root, dirs, files in os.walk('queries'):\n",
    "    for file in sorted(files, key=int):\n",
    "        with open(os.path.join(root,file), 'r') as f:\n",
    "            queries.append(f.read())\n",
    "            \n",
    "\n",
    "transformedQueries = vv.transform(queries)\n",
    "print(transformedQueries.shape) #225 file with 20338 unique words\n",
    "#print(transformedQueries.toarray()) \n"
   ]
  },
  {
   "cell_type": "code",
   "execution_count": 5,
   "metadata": {
    "collapsed": false
   },
   "outputs": [
    {
     "name": "stdout",
     "output_type": "stream",
     "text": [
      "cosine similarity array: \n",
      " [[ 0.          0.04416816  0.         ...,  0.00977902  0.          0.        ]\n",
      " [ 0.01664458  0.04593605  0.03206653 ...,  0.03456817  0.02332632\n",
      "   0.03120366]\n",
      " [ 0.01932345  0.03254715  0.00646016 ...,  0.01212514  0.02200258\n",
      "   0.01380319]\n",
      " ..., \n",
      " [ 0.01201924  0.07037756  0.13453498 ...,  0.11359977  0.23400063\n",
      "   0.1720973 ]\n",
      " [ 0.03530657  0.10114632  0.02898973 ...,  0.0536287   0.03752077\n",
      "   0.03581733]\n",
      " [ 0.08693186  0.02721953  0.         ...,  0.0158465   0.0026837\n",
      "   0.02706897]] \n",
      "\n"
     ]
    },
    {
     "name": "stderr",
     "output_type": "stream",
     "text": [
      "C:\\Users\\elmohandes tech\\Anaconda3\\lib\\site-packages\\scipy\\spatial\\distance.py:1739: RuntimeWarning: invalid value encountered in true_divide\n",
      "  dm /= _row_norms(XB)\n"
     ]
    }
   ],
   "source": [
    "sims = 1-cdist(transformedQueries.toarray(), transformedDocs.toarray(), metric='cosine')\n",
    "print('cosine similarity array: \\n', sims , '\\n')\n",
    "#print(sims.shape)"
   ]
  },
  {
   "cell_type": "code",
   "execution_count": 7,
   "metadata": {
    "collapsed": false
   },
   "outputs": [
    {
     "name": "stdout",
     "output_type": "stream",
     "text": [
      "ranked list of relevant documents for each query: \n",
      " [[  13  184   51 ..., 1395 1399 1400]\n",
      " [  12   51  792 ...,  769 1048 1045]\n",
      " [ 485  181  144 ..., 1249 1210 1266]\n",
      " ..., \n",
      " [ 400  484 1399 ..., 1266 1348 1395]\n",
      " [ 537  317  329 ..., 1045  963  492]\n",
      " [ 226  368  431 ..., 1368 1369 1389]] \n",
      "\n"
     ]
    }
   ],
   "source": [
    "# Returns a list of sorted document ids according to maximum similarity\n",
    "idsSort=[]\n",
    "for relDocs in (sims):\n",
    "    idsSort.append(sorted(range(len(relDocs)), key=lambda ix: relDocs[ix],reverse = True))\n",
    "\n",
    "#To solve zero indexing issue\n",
    "ids = np.add(1,idsSort)\n",
    "print('ranked list of relevant documents for each query: \\n', ids , '\\n')\n",
    "#print('ids shape',ids.shape)\n",
    "#print(ids[0][:20])\n",
    "# print(ids)\n",
    "# print(len(ids[0]))\n",
    "# print(len(ids))"
   ]
  },
  {
   "cell_type": "code",
   "execution_count": 8,
   "metadata": {
    "collapsed": false
   },
   "outputs": [
    {
     "name": "stdout",
     "output_type": "stream",
     "text": [
      "Mean Average Precision 0.218268668715\n"
     ]
    }
   ],
   "source": [
    "#read cranquel file to get the real relevant docs to each query\n",
    "relevantDocs = []\n",
    "with open('cranqrel') as f:\n",
    "    for line in f.readlines():\n",
    "        relevantDocs.append(line.split(\" \"))\n",
    "\n",
    "#print(relevantDocs)\n",
    "\n",
    "#initializing a dictionary with key(queries) and values(related documents) \n",
    "dic ={}\n",
    "l =[]\n",
    "for i in range(1,226):\n",
    "    l=[]\n",
    "    for j in relevantDocs:\n",
    "        if(j[0] == str(i)):\n",
    "            l.append(j[1])\n",
    "            dic['{}'.format(i)] = list(map(int,l)) \n",
    "\n",
    "#Calculating the Mean Average Precision\n",
    "numerator = 0\n",
    "denominator = 0\n",
    "summation = 0\n",
    "pr=[]\n",
    "\n",
    "for i in range(1,len(ids)):\n",
    "    denominator = 1\n",
    "    for j in range(1,len(ids[i])):\n",
    "        if(ids[i-1][j-1] in dic['{}'.format(i)]):\n",
    "            numerator += 1\n",
    "            summation += (numerator/denominator)\n",
    "        denominator += 1\n",
    "    pr.append(summation/len(dic['{}'.format(i)]))\n",
    "    summation = 0\n",
    "    numerator = 0\n",
    "            \n",
    "precisionSum = np.sum(pr)\n",
    "mapValue = precisionSum/len(dic)\n",
    "print('Mean Average Precision' , mapValue)\n",
    "\n",
    "        \n",
    "# forming a list of lists so as to be able to use mapk\n",
    "maplist =[]\n",
    "for i in range(1,226):\n",
    "    maplist.append(dic['{}'.format(i)])\n",
    "\n",
    "\n",
    "print('Mean Average Precision using mapk',mapk(maplist, ids, max([len(res) for res in ids]))) # set K to maximum length of any of the results\n"
   ]
  }
 ],
 "metadata": {
  "kernelspec": {
   "display_name": "Python 3",
   "language": "python",
   "name": "python3"
  },
  "language_info": {
   "codemirror_mode": {
    "name": "ipython",
    "version": 3
   },
   "file_extension": ".py",
   "mimetype": "text/x-python",
   "name": "python",
   "nbconvert_exporter": "python",
   "pygments_lexer": "ipython3",
   "version": "3.6.0"
  }
 },
 "nbformat": 4,
 "nbformat_minor": 2
}
